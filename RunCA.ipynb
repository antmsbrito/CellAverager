{
 "cells": [
  {
   "cell_type": "markdown",
   "metadata": {},
   "source": [
    "# Cell Averager"
   ]
  },
  {
   "cell_type": "markdown",
   "metadata": {},
   "source": [
    "### Initial imports"
   ]
  },
  {
   "cell_type": "code",
   "execution_count": 1,
   "metadata": {},
   "outputs": [],
   "source": [
    "import warnings\n",
    "warnings.filterwarnings('ignore')\n",
    "\n",
    "import os\n",
    "import sys\n",
    "\n",
    "from matplotlib import pyplot as plt"
   ]
  },
  {
   "cell_type": "markdown",
   "metadata": {},
   "source": [
    "### User defined parameters"
   ]
  },
  {
   "cell_type": "code",
   "execution_count": 2,
   "metadata": {},
   "outputs": [],
   "source": [
    "ehookepath = r\"YOUR EHOOKES PATH\"\n",
    "root_folder = r\"YOUR ROOT FOLDER\"\n",
    "\n",
    "\n",
    "fluor1 = \"GFP\"\n",
    "fluor2 = \"TexasRed\"\n",
    "base = \"Phase\"\n",
    "membrane = 'none'\n",
    "basetype = \"Phase\"\n",
    "dnaname = 'none'\n"
   ]
  },
  {
   "cell_type": "code",
   "execution_count": null,
   "metadata": {},
   "outputs": [],
   "source": [
    "sys.path.append(ehookepath)\n",
    "\n",
    "from images import ImageManager\n",
    "from parameters import MaskParameters, RegionParameters, CellParameters, ParametersManager\n",
    "from segments import SegmentsManager\n",
    "from cells import CellManager\n",
    "from cellcycleclassifier import CellCycleClassifier\n",
    "\n",
    "from model import ExperimentalCondition, Replicate "
   ]
  },
  {
   "cell_type": "code",
   "execution_count": null,
   "metadata": {},
   "outputs": [],
   "source": [
    "experiments = [os.path.join(root_folder, f) for f in os.listdir(root_folder) if os.path.isdir(os.path.join(root_folder, f))]\n",
    "\n",
    "exp_objects = [ExperimentalCondition(condition, fluor1, fluor2, membrane, base, basetype,dnaname) for condition in experiments]\n",
    "models_gfp_ori = [e.askformodel(channel=1, modeltype='spot', minspots=1, cellcycle=(0,)) for e in exp_objects]\n",
    "models_texasred_ter = [e.askformodel(channel=2, modeltype='spot', minspots=1, cellcycle=(0,)) for e in exp_objects]"
   ]
  },
  {
   "cell_type": "code",
   "execution_count": null,
   "metadata": {},
   "outputs": [],
   "source": [
    "from matplotlib import pyplot as plt\n",
    "\n",
    "experiments_name = [f for f in os.listdir(root_folder) if os.path.isdir(os.path.join(root_folder, f))]\n",
    "\n",
    "fig, ax = plt.subplots(len(models_gfp_ori), 2, figsize=(5,10), dpi=300)\n",
    "\n",
    "for i in range(len(models_gfp_ori)):    \n",
    "    ori = models_gfp_ori[i][3]\n",
    "    ter = models_texasred_ter[i][3]\n",
    "\n",
    "    ax[i,0].imshow(ori, cmap='coolwarm')\n",
    "    ax[i,1].imshow(ter, cmap='coolwarm')\n",
    "    \n",
    "    ax[i,0].axis('off')\n",
    "    ax[i,1].axis('off')\n",
    "    \n",
    "    ax[i,0].set_title(experiments_name[i], fontsize=4)\n",
    "    ax[i,1].set_title(experiments_name[i], fontsize=4)\n",
    "\n",
    "    \n",
    "plt.suptitle(\"ORIGIN ##################### TERMINUS\", fontsize=7)\n",
    "#plt.savefig(\"GFP_TexasRed.jpeg\")\n"
   ]
  },
  {
   "cell_type": "code",
   "execution_count": null,
   "metadata": {},
   "outputs": [],
   "source": []
  }
 ],
 "metadata": {
  "kernelspec": {
   "display_name": "Python 3",
   "language": "python",
   "name": "python3"
  },
  "language_info": {
   "codemirror_mode": {
    "name": "ipython",
    "version": 3
   },
   "file_extension": ".py",
   "mimetype": "text/x-python",
   "name": "python",
   "nbconvert_exporter": "python",
   "pygments_lexer": "ipython3",
   "version": "3.6.13"
  },
  "vscode": {
   "interpreter": {
    "hash": "d9a808d1a5986a296ceb0c3b429a5d6de3110c54153ec7e094aab1b608eef575"
   }
  }
 },
 "nbformat": 4,
 "nbformat_minor": 4
}
