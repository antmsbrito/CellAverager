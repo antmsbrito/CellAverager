{
 "cells": [
  {
   "attachments": {},
   "cell_type": "markdown",
   "metadata": {},
   "source": [
    "# Cell Averager"
   ]
  },
  {
   "attachments": {},
   "cell_type": "markdown",
   "metadata": {},
   "source": [
    "### Initial imports"
   ]
  },
  {
   "cell_type": "code",
   "execution_count": 1,
   "metadata": {},
   "outputs": [],
   "source": [
    "import warnings\n",
    "warnings.filterwarnings('ignore')\n",
    "\n",
    "import os\n",
    "import sys\n",
    "\n",
    "from matplotlib import pyplot as plt\n",
    "import ipywidgets as widgets"
   ]
  },
  {
   "cell_type": "code",
   "execution_count": 2,
   "metadata": {},
   "outputs": [
    {
     "name": "stderr",
     "output_type": "stream",
     "text": [
      "You are using Python 3.6, which will no longer be supported in StarDist 0.9.0.\n",
      "→ Please upgrade to Python 3.7 or later.\n",
      "Using TensorFlow backend.\n"
     ]
    }
   ],
   "source": [
    "ehooke = r\"C:\\Users\\António\\Documents\\GitHub\\eHooke_1.0\"\n",
    "\n",
    "sys.path.append(ehooke)\n",
    "\n",
    "from images import ImageManager\n",
    "from parameters import MaskParameters, RegionParameters, CellParameters, ParametersManager\n",
    "from segments import SegmentsManager\n",
    "from cells import CellManager\n",
    "from cellcycleclassifier import CellCycleClassifier\n",
    "\n",
    "from model import ExperimentalCondition, Replicate"
   ]
  },
  {
   "cell_type": "code",
   "execution_count": 3,
   "metadata": {},
   "outputs": [],
   "source": [
    "root_folder = r\"C:\\Users\\António\\Desktop\\FROS_wMemb\"\n",
    "experiments = [os.path.join(root_folder, f) for f in os.listdir(root_folder) if os.path.isdir(os.path.join(root_folder, f))]\n",
    "\n",
    "\n",
    "fluor1 = \"cyan\"\n",
    "fluor2 = \"yellow\"\n",
    "base = \"phase\"\n",
    "membrane = \"texasred\"\n",
    "basetype = \"Phase\"\n",
    "\n",
    "exp_objects = [ExperimentalCondition(condition, fluor1, fluor2, membrane, base, basetype) for condition in experiments]"
   ]
  },
  {
   "cell_type": "code",
   "execution_count": null,
   "metadata": {},
   "outputs": [],
   "source": []
  }
 ],
 "metadata": {
  "kernelspec": {
   "display_name": "eHookeEnvironment",
   "language": "python",
   "name": "python3"
  },
  "language_info": {
   "codemirror_mode": {
    "name": "ipython",
    "version": 3
   },
   "file_extension": ".py",
   "mimetype": "text/x-python",
   "name": "python",
   "nbconvert_exporter": "python",
   "pygments_lexer": "ipython3",
   "version": "3.6.15"
  },
  "orig_nbformat": 4,
  "vscode": {
   "interpreter": {
    "hash": "d9a808d1a5986a296ceb0c3b429a5d6de3110c54153ec7e094aab1b608eef575"
   }
  }
 },
 "nbformat": 4,
 "nbformat_minor": 2
}
