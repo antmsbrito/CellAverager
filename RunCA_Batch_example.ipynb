{
 "cells": [
  {
   "cell_type": "markdown",
   "metadata": {},
   "source": [
    "# Cell Averager"
   ]
  },
  {
   "cell_type": "markdown",
   "metadata": {},
   "source": [
    "### Initial imports"
   ]
  },
  {
   "cell_type": "code",
   "execution_count": 1,
   "metadata": {},
   "outputs": [],
   "source": [
    "import warnings\n",
    "warnings.filterwarnings('ignore')\n",
    "\n",
    "import sys\n",
    "\n",
    "import numpy as np\n",
    "from matplotlib import pyplot as plt\n",
    "\n",
    "import seaborn as sns\n",
    "import pandas as pd\n",
    "\n",
    "import os"
   ]
  },
  {
   "cell_type": "markdown",
   "metadata": {},
   "source": [
    "### User defined parameters"
   ]
  },
  {
   "cell_type": "code",
   "execution_count": null,
   "metadata": {},
   "outputs": [],
   "source": [
    "ehooke_path = r\"INSERT EHOOKE PATH HERE\"\n",
    "root_folder = r\"INSERT ROOT FOLDER PATH HERE\"                    \n",
    "result_folder = r\"INSERT RESULT FOLDER PATH HERE\"\n",
    "\n",
    "# CHANGE THE FOLLOWING VARIABLES ACCORDING TO YOUR NEEDS\n",
    "base_filename = \"MEMBRANE\"\n",
    "membrane_filename = 'MEMBRANE'\n",
    "base_type = \"Membrane\"\n",
    "dna_filename = 'DNA'\n"
   ]
  },
  {
   "cell_type": "code",
   "execution_count": null,
   "metadata": {},
   "outputs": [
    {
     "name": "stderr",
     "output_type": "stream",
     "text": [
      "You are using Python 3.6, which is deprecated and will no longer be supported in future versions of StarDist.\n",
      "→ Please upgrade to Python 3.7 or later.\n",
      "Using TensorFlow backend.\n"
     ]
    }
   ],
   "source": [
    "sys.path.append(ehooke_path)\n",
    "\n",
    "from images import ImageManager\n",
    "from parameters import MaskParameters, RegionParameters, CellParameters, ParametersManager\n",
    "from segments import SegmentsManager\n",
    "from cells import CellManager\n",
    "from cellcycleclassifier import CellCycleClassifier\n",
    "\n",
    "from model import ExperimentalCondition, Replicate"
   ]
  },
  {
   "cell_type": "code",
   "execution_count": 5,
   "metadata": {},
   "outputs": [],
   "source": [
    "def distance(p1,p2):\n",
    "    # l2 norm\n",
    "    return np.sqrt((p1[0]-p2[0])**2+(p1[1]-p2[1])**2)\n",
    "\n",
    "def minpointdistance(points_1,points_2):\n",
    "    \n",
    "    if (not points_1) or (not points_2):\n",
    "        return None\n",
    "    \n",
    "    mind = 1e12\n",
    "    for i in points_1:\n",
    "        for j in points_2:\n",
    "            if i!=j:\n",
    "                d = distance(i,j)\n",
    "                if d<mind:\n",
    "                    mind=d\n",
    "    if mind!=1e12:\n",
    "        return mind*0.08\n",
    "    else:\n",
    "        return None"
   ]
  },
  {
   "cell_type": "markdown",
   "metadata": {},
   "source": [
    "### This exemplifies full analysis including cell cycle classification for each condition\n",
    "#### Outputs include foci counts, foci coordinates, distances between foci and their histograms, heatmaps and morphology parameters"
   ]
  },
  {
   "cell_type": "code",
   "execution_count": null,
   "metadata": {},
   "outputs": [
    {
     "name": "stdout",
     "output_type": "stream",
     "text": [
      "32_WT_ori FOCI none\n",
      "46_WT_ter FOCI none\n",
      "47_WT_left FOCI none\n",
      "48_WT_right FOCI none\n",
      "68_ftsK_ori FOCI none\n",
      "69_xerC_ori FOCI none\n",
      "70_xerC_ter FOCI none\n",
      "71_smcSTOP_ori FOCI none\n",
      "73_ftsK_ter FOCI none\n",
      "74_smcSTOP_ter FOCI none\n",
      "75_spoIIIE_ori FOCI none\n",
      "76_noc_ori FOCI none\n",
      "77_noc_ter FOCI none\n",
      "78_spoIIIE_ter FOCI none\n",
      "ParB_ori FOCI none\n",
      "ParB_Ter FOCI none\n"
     ]
    }
   ],
   "source": [
    "for c in os.listdir(root_folder):\n",
    "    \n",
    "    condition_folder = os.path.join(root_folder,c)\n",
    "    \n",
    "    if os.path.exists(os.path.join(result_folder,f\"models_{c}.jpeg\")):\n",
    "        print(\"skipping\", c)\n",
    "        continue\n",
    "    if not os.path.isdir(condition_folder):\n",
    "        continue\n",
    "        \n",
    "    fluor1 = 'FOCI'\n",
    "    fluor2 = 'none'\n",
    "    \n",
    "    print(c, fluor1, fluor2)\n",
    "    \n",
    "    base = \"MEMBRANE\"\n",
    "    membrane = 'MEMBRANE'\n",
    "    basetype = \"Membrane\"\n",
    "    dnaname = 'DNA'\n",
    "    pxsize = 0.08\n",
    "\n",
    "    exp_objects = ExperimentalCondition(condition_folder, fluor1, fluor2, membrane, base, basetype, dnaname,pxsize)\n",
    "    \n",
    "    models_fluor_1 = exp_objects.askformodel(channel=1, modeltype='spot', minspots=1, cellcycle=(0,1,2,3))\n",
    "    scatter_coords_1 = exp_objects.askforscatter(channel=1, minspots=1, maxspots=np.inf, cellcycle=(0,1,2,3))\n",
    "    df_1 = exp_objects.askfortable(channel=1)\n",
    "    \n",
    "    if fluor2 != 'none':\n",
    "        models_fluor_2 = exp_objects.askformodel(channel=2, modeltype='spot', minspots=1, cellcycle=(0,1,2,3))\n",
    "        scatter_coords_2 = exp_objects.askforscatter(channel=2, minspots=1, maxspots=np.inf, cellcycle=(0,1,2,3))\n",
    "        df_2 = exp_objects.askfortable(channel=2)\n",
    "    else:\n",
    "        models_fluor_2 = 0,0,0,np.zeros((30,30))\n",
    "        scatter_coords_2 = [],[]\n",
    "    \n",
    "     # merge dfs\n",
    "    if fluor2 != 'none':\n",
    "        finaldf = pd.merge(df_1,df_2)\n",
    "    else:\n",
    "        finaldf = df_1\n",
    "        \n",
    "    # build mindistances\n",
    "    mind11 = []\n",
    "    mind12 = []\n",
    "    mind22 = []\n",
    "    for index,row in finaldf.iterrows():\n",
    "        sp1 = row['SpotCoords_1']\n",
    "\n",
    "        # 1 to 1\n",
    "        mind11.append(minpointdistance(sp1,sp1))\n",
    "\n",
    "        try:\n",
    "            sp2 = row['SpotCoords_2']\n",
    "            # 1 to 2\n",
    "            mind12.append(minpointdistance(sp1,sp2))\n",
    "            mind22.append(minpointdistance(sp2,sp2))\n",
    "        except:\n",
    "            pass\n",
    "\n",
    "    finaldf['MinDistance_1to1'] = mind11\n",
    "\n",
    "    try:\n",
    "        finaldf['MinDistance_1to2'] = mind12\n",
    "        finaldf['MinDistance_2to2'] = mind22\n",
    "    except:\n",
    "        pass\n",
    "    \n",
    "    # save finaldf\n",
    "    finaldf.to_csv(os.path.join(result_folder,f\"results_{c}.csv\"))\n",
    "        \n",
    "    # totalN, totalCells, totalSpots, final_model\n",
    "    \n",
    "    fig, ax = plt.subplots(3, 2, dpi=300)\n",
    "    \n",
    "    ax[0,0].imshow(models_fluor_1[3], cmap='coolwarm')\n",
    "    ax[0,1].imshow(models_fluor_2[3], cmap='coolwarm')\n",
    "    ax[0,0].axis('off')\n",
    "    ax[0,1].axis('off')\n",
    "    ax[0,0].set_title(f\"{fluor1}->=1 spot cells\", fontsize=4)\n",
    "    ax[0,1].set_title(f\"{fluor2}->=1 spot cells\", fontsize=4)\n",
    "    \n",
    "    #ax[1,0].plot(scatter_coords_1[0],scatter_coords_1[1],'x')\n",
    "    #ax[1,1].plot(scatter_coords_2[0],scatter_coords_2[1],'x')\n",
    "    ax[1,0].axis('off')\n",
    "    ax[1,1].axis('off')\n",
    "    ax[1,0].set_title(f\"{fluor1}->=1 spot cells\", fontsize=4)\n",
    "    ax[1,1].set_title(f\"{fluor2}->=1 spot cells\", fontsize=4)\n",
    "    \n",
    "    rawtxt = f\"Total cells={models_fluor_1[1]} \\n Cells with at least 1 spot={models_fluor_1[0]} \\n Total spots={models_fluor_1[2]}\"\n",
    "    ax[2,0].axis([0,10,0,10])\n",
    "    ax[2,0].axis('off')\n",
    "    ax[2,0].text(5,5,rawtxt, fontsize=5, wrap=True)\n",
    "    \n",
    "    rawtxt = f\"Total cells={models_fluor_2[1]} \\n Cells with at least 1 spot={models_fluor_2[0]} \\n Total spots={models_fluor_2[2]}\"\n",
    "    ax[2,1].axis([0,10,0,10])\n",
    "    ax[2,1].axis('off')\n",
    "    ax[2,1].text(5,5,rawtxt, fontsize=5, wrap=True)\n",
    "    \n",
    "    plt.savefig(os.path.join(result_folder,f\"models_{c}.jpeg\"))\n",
    "    plt.close('all')\n",
    "    \n",
    "    \n",
    "    \n",
    "    \n",
    "    \n",
    "    fig,ax = plt.subplots(1,1,dpi=300)\n",
    "    sns.displot(data=df_1,x='Nspots_1',hue='CCP',ax=ax,stat='count',discrete=True,alpha=0.3,palette=\"bright\")\n",
    "    plt.savefig(os.path.join(result_folder,f\"histogram1_{c}.jpeg\"))\n",
    "    \n",
    "    fig,ax = plt.subplots(1,1,dpi=300)\n",
    "    sns.displot(data=finaldf,x='MinDistance_1to1',hue='CCP',ax=ax,stat='count',discrete=False,alpha=0.3,palette=\"bright\")\n",
    "    plt.savefig(os.path.join(result_folder,f\"distances1to1_{c}.jpeg\"))\n",
    "    \n",
    "    try:\n",
    "        fig,ax = plt.subplots(1,1,dpi=300)\n",
    "        sns.displot(data=df_2,x='Nspots_2',hue='CCP',ax=ax,stat='count',discrete=True,alpha=0.3,palette=\"bright\")\n",
    "        plt.savefig(os.path.join(result_folder,f\"histogram2_{c}.jpeg\"))\n",
    "        \n",
    "        fig,ax = plt.subplots(1,1,dpi=300)\n",
    "        sns.displot(data=finaldf,x='MinDistance_1to2',hue='CCP',ax=ax,stat='count',discrete=False,alpha=0.3,palette=\"bright\")\n",
    "        plt.savefig(os.path.join(result_folder,f\"distances1to2_{c}.jpeg\"))\n",
    "\n",
    "        fig,ax = plt.subplots(1,1,dpi=300)\n",
    "        sns.displot(data=finaldf,x='MinDistance_2to2',hue='CCP',ax=ax,stat='count',discrete=False,alpha=0.3,palette=\"bright\")\n",
    "        plt.savefig(os.path.join(result_folder,f\"distances2to2_{c}.jpeg\"))\n",
    "    except:\n",
    "        pass\n",
    "    \n",
    "    plt.close('all')\n",
    "    "
   ]
  },
  {
   "cell_type": "markdown",
   "metadata": {},
   "source": [
    "### This exemplifies a more detailed analysis\n",
    "#### Outputs are the same but now we have heatmaps done PER cell cycle phase"
   ]
  },
  {
   "cell_type": "code",
   "execution_count": null,
   "metadata": {},
   "outputs": [
    {
     "name": "stdout",
     "output_type": "stream",
     "text": [
      "skipping 32_WT_ori\n",
      "46_WT_ter FOCI none\n",
      "47_WT_left FOCI none\n",
      "48_WT_right FOCI none\n"
     ]
    }
   ],
   "source": [
    "wts = ['32_WT_ori','46_WT_ter','47_WT_left','48_WT_right']\n",
    "\n",
    "for c in wts:\n",
    "    \n",
    "    condition_folder = os.path.join(root_folder,c)\n",
    "    \n",
    "    if os.path.exists(os.path.join(result_folder,\"wts\",f\"models_{c}.jpeg\")):\n",
    "        print(\"skipping\", c)\n",
    "        continue\n",
    "    if not os.path.isdir(condition_folder):\n",
    "        continue\n",
    "        \n",
    "    fluor1 = 'FOCI'\n",
    "    fluor2 = 'none'\n",
    "    \n",
    "    print(c, fluor1, fluor2)\n",
    "    \n",
    "    base = \"MEMBRANE\"\n",
    "    membrane = 'MEMBRANE'\n",
    "    basetype = \"Membrane\"\n",
    "    dnaname = 'DNA'\n",
    "    \n",
    "    exp_objects = ExperimentalCondition(condition_folder, fluor1, fluor2, membrane, base, basetype, dnaname)\n",
    "    \n",
    "    models_fluor_1 = exp_objects.askformodel(channel=1, modeltype='spot', minspots=1, cellcycle=(1,))\n",
    "    models_fluor_2 = exp_objects.askformodel(channel=1, modeltype='spot', minspots=1, cellcycle=(2,))\n",
    "    models_fluor_3 = exp_objects.askformodel(channel=1, modeltype='spot', minspots=1, cellcycle=(3,))\n",
    "    \n",
    "    fig, ax = plt.subplots(2, 3, dpi=300)\n",
    "    ax[0,0].imshow(models_fluor_1[3], cmap='coolwarm')\n",
    "    ax[0,1].imshow(models_fluor_2[3], cmap='coolwarm')\n",
    "    ax[0,2].imshow(models_fluor_3[3], cmap='coolwarm')\n",
    "    ax[0,0].axis('off')\n",
    "    ax[0,1].axis('off')\n",
    "    ax[0,2].axis('off')\n",
    "    ax[0,0].set_title(f\"PHASE 1 ->=1 spot cells\", fontsize=4)\n",
    "    ax[0,1].set_title(f\"PHASE 2 ->=1 spot cells\", fontsize=4)\n",
    "    ax[0,2].set_title(f\"PHASE 3 ->=1 spot cells\", fontsize=4)\n",
    "    \n",
    "    rawtxt = f\"Total cells={models_fluor_1[1]} \\n Cells with at least 1 spot={models_fluor_1[0]} \\n Total spots={models_fluor_1[2]}\"\n",
    "    ax[1,0].axis([0,10,0,10])\n",
    "    ax[1,0].axis('off')\n",
    "    ax[1,0].text(5,5,rawtxt, fontsize=5, wrap=True)\n",
    "    \n",
    "    rawtxt = f\"Total cells={models_fluor_2[1]} \\n Cells with at least 1 spot={models_fluor_2[0]} \\n Total spots={models_fluor_2[2]}\"\n",
    "    ax[1,1].axis([0,10,0,10])\n",
    "    ax[1,1].axis('off')\n",
    "    ax[1,1].text(5,5,rawtxt, fontsize=5, wrap=True)\n",
    "    \n",
    "    rawtxt = f\"Total cells={models_fluor_3[1]} \\n Cells with at least 1 spot={models_fluor_3[0]} \\n Total spots={models_fluor_3[2]}\"\n",
    "    ax[1,2].axis([0,10,0,10])\n",
    "    ax[1,2].axis('off')\n",
    "    ax[1,2].text(5,5,rawtxt, fontsize=5, wrap=True)\n",
    "    \n",
    "    plt.savefig(os.path.join(result_folder,\"wts\",f\"models_{c}.jpeg\"))\n",
    "    plt.close('all')\n"
   ]
  },
  {
   "cell_type": "code",
   "execution_count": null,
   "metadata": {},
   "outputs": [],
   "source": []
  }
 ],
 "metadata": {
  "kernelspec": {
   "display_name": "Python 3",
   "language": "python",
   "name": "python3"
  },
  "language_info": {
   "codemirror_mode": {
    "name": "ipython",
    "version": 3
   },
   "file_extension": ".py",
   "mimetype": "text/x-python",
   "name": "python",
   "nbconvert_exporter": "python",
   "pygments_lexer": "ipython3",
   "version": "3.6.15"
  },
  "vscode": {
   "interpreter": {
    "hash": "d9a808d1a5986a296ceb0c3b429a5d6de3110c54153ec7e094aab1b608eef575"
   }
  }
 },
 "nbformat": 4,
 "nbformat_minor": 4
}
